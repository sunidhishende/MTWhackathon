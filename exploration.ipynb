{
 "cells": [
  {
   "cell_type": "code",
   "execution_count": null,
   "metadata": {},
   "outputs": [],
   "source": [
    "import os\n",
    "\n",
    "# Possible values:\n",
    "#   0 = all logs (default)\n",
    "#   1 = filter out INFO logs\n",
    "#   2 = filter out INFO and WARNING logs\n",
    "#   3 = filter out all logs except errors\n",
    "os.environ['TF_CPP_MIN_LOG_LEVEL'] = '2'\n",
    "\n",
    "import tensorflow as tf\n",
    "import re\n",
    "\n",
    "tf.compat.v1.logging.set_verbosity(tf.compat.v1.logging.ERROR)\n",
    "\n",
    "# create config to use both gpus on wickerman machine:\n",
    "# 1. Nvidia A40 (25GB memory allocation)\n",
    "# 2. Nvidia RTX 3060 (11GB memory allocation)\n",
    "\n",
    "gpus = tf.config.list_physical_devices('GPU')\n",
    "\n",
    "tf.config.set_visible_devices(gpus[0], 'GPU') # use Use Nvidia A40 only\n",
    "\n",
    "log_dev_conf_a40 = tf.config.LogicalDeviceConfiguration(\n",
    "    memory_limit=25*1024 # 25 GB allocation for a40 GPU\n",
    ")\n",
    "\n",
    "tf.config.set_logical_device_configuration(\n",
    "    gpus[0], # select GPU_0, i.e., Nvidia A40\n",
    "    [log_dev_conf_a40] # apply 25GB config\n",
    ")\n",
    "\n",
    "# tf.config.set_visible_devices(gpus[1], 'GPU') # use RTX3060 only\n",
    "\n",
    "# log_dev_conf_rtx3060 = tf.config.LogicalDeviceConfiguration(\n",
    "#     memory_limit=12*1024 # 11 GB allocation for rtx3060 GPU\n",
    "# )\n",
    "\n",
    "# tf.config.set_logical_device_configuration(\n",
    "#     gpus[1], # select GPU_1, i.e., Nvidia rtx3060\n",
    "#     [log_dev_conf_rtx3060] # apply 11GB config\n",
    "# )\n",
    "\n",
    "# MultiGPU setup\n",
    "# Create a MirroredStrategy.\n",
    "# strategy = None\n",
    "# strategy = tf.distribute.MirroredStrategy()\n",
    "# print('Number of devices: {}'.format(strategy.num_replicas_in_sync))\n",
    "\n",
    "logical_gpus = tf.config.list_logical_devices('GPU')\n",
    "print(len(gpus), \"Physical GPUs,\", len(logical_gpus), \"Logical GPU\")"
   ]
  },
  {
   "cell_type": "code",
   "execution_count": null,
   "metadata": {},
   "outputs": [],
   "source": [
    "import gc\n",
    "import pandas as pd"
   ]
  },
  {
   "cell_type": "code",
   "execution_count": null,
   "metadata": {},
   "outputs": [],
   "source": [
    "main_data = pd.read_csv('./data/card_transaction.v1.csv')\n",
    "mcc = pd.read_csv(\"./data/mcc_codes.csv\")"
   ]
  },
  {
   "cell_type": "code",
   "execution_count": null,
   "metadata": {},
   "outputs": [],
   "source": [
    "# Merge the main_data with the mcc dataset on the 'MCC' column\n",
    "data = pd.merge(main_data, mcc, left_on='MCC', right_on='mcc')\n",
    "del main_data, mcc\n",
    "gc.collect()"
   ]
  },
  {
   "cell_type": "code",
   "execution_count": null,
   "metadata": {},
   "outputs": [],
   "source": [
    "from datetime import datetime\n",
    "\n",
    "def convert_to_utc(data):\n",
    "    \n",
    "    year, month, day, time_str = data\n",
    "    time_obj = datetime.strptime(time_str, \"%H:%M\").time()\n",
    "    \n",
    "    # Create full datetime object (assuming UTC)\n",
    "    dt_obj = datetime(year, month, day, time_obj.hour, time_obj.minute)\n",
    "    \n",
    "    # Convert to UTC timestamp string\n",
    "    return dt_obj.isoformat() + \"Z\""
   ]
  },
  {
   "cell_type": "code",
   "execution_count": null,
   "metadata": {},
   "outputs": [],
   "source": [
    "from pqdm.processes import pqdm as pqdm_processes\n",
    "from pqdm.threads import pqdm as pqdm_threads\n",
    "from tqdm import tqdm"
   ]
  },
  {
   "cell_type": "code",
   "execution_count": null,
   "metadata": {},
   "outputs": [],
   "source": [
    "import numpy as np\n",
    "from sklearn.preprocessing import LabelEncoder\n",
    "\n",
    "def categorical_labeling(values):\n",
    "    label_encoder = LabelEncoder()\n",
    "    \n",
    "    # Fit and transform the values\n",
    "    encoded_values = label_encoder.fit_transform(values)\n",
    "    \n",
    "    return np.array(encoded_values)"
   ]
  },
  {
   "cell_type": "code",
   "execution_count": null,
   "metadata": {},
   "outputs": [],
   "source": [
    "data['UTC_Timestamp'] = [convert_to_utc(item) for item in tqdm(data[['Year', 'Month', 'Day', 'Time']].values)]"
   ]
  },
  {
   "cell_type": "code",
   "execution_count": null,
   "metadata": {},
   "outputs": [],
   "source": [
    "data['UTC_Timestamp'] = pd.to_datetime(data['UTC_Timestamp'])\n",
    "data = data.sort_values(by=['User', 'Card', 'UTC_Timestamp'])\n"
   ]
  },
  {
   "cell_type": "code",
   "execution_count": null,
   "metadata": {},
   "outputs": [],
   "source": [
    "data['Amount'] = data['Amount'].map(lambda x: float(x[1:]))\n",
    "\n",
    "data['has_error'] = (data['Errors?'].isna() == False).astype(int)\n",
    "\n",
    "data['Minutes_Since_Midnight'] = data['Time'].apply(lambda t: int(t.split(':')[0]) * 60 + int(t.split(':')[1]))\n",
    "\n",
    "data.fillna({'irs_reportable': 'NA'}, inplace=True)\n",
    "data.fillna({'irs_description': 'NA'}, inplace=True)\n",
    "data['irs_reportable_labeled'] = categorical_labeling(data['irs_reportable'])\n",
    "data['irs_description_labeled'] = categorical_labeling(data['irs_description'])\n",
    "\n",
    "data['Is_Fraud_Binary'] = data['Is Fraud?'].map({'Yes': 1, 'No': 0})\n",
    "data['Use_chip_labeled'] = data['Use Chip'].map({'Swipe Transaction': 0, 'Online Transaction': 1, 'Chip Transaction': 2})\n",
    "data['city_labeled'] = categorical_labeling(data['Merchant City'])\n",
    "\n",
    "gc.collect()"
   ]
  },
  {
   "cell_type": "code",
   "execution_count": null,
   "metadata": {},
   "outputs": [],
   "source": [
    "seq_features = ['Month', 'Day', 'MCC', 'Minutes_Since_Midnight', 'city_labeled', 'Use_chip_labeled', 'Amount', 'has_error', 'irs_reportable_labeled', 'irs_description_labeled']\n",
    "filtered_data = data[seq_features]"
   ]
  },
  {
   "cell_type": "code",
   "execution_count": null,
   "metadata": {},
   "outputs": [],
   "source": [
    "import pickle as pkl\n"
   ]
  },
  {
   "cell_type": "code",
   "execution_count": null,
   "metadata": {},
   "outputs": [],
   "source": [
    "\n",
    "pkl.dump(filtered_data, open('./data/engineered_data.pkl', 'wb'))\n",
    "pkl.dump(data, open('./data/engineered_data_raw.pkl', 'wb'))"
   ]
  },
  {
   "cell_type": "code",
   "execution_count": 29,
   "metadata": {},
   "outputs": [],
   "source": [
    "filtered_data = pkl.load(open('./data/engineered_data.pkl', 'rb'))\n",
    "data = pkl.load(open('./data/engineered_data_raw.pkl', 'rb'))"
   ]
  },
  {
   "cell_type": "code",
   "execution_count": 30,
   "metadata": {},
   "outputs": [],
   "source": [
    "seq_features = ['Month', 'Day', 'MCC', 'Minutes_Since_Midnight', 'city_labeled', 'Use_chip_labeled', 'Amount', 'has_error', 'irs_reportable_labeled', 'irs_description_labeled']\n",
    "# filtered_data = data[seq_features]"
   ]
  },
  {
   "cell_type": "code",
   "execution_count": 31,
   "metadata": {},
   "outputs": [],
   "source": [
    "data = data[data['User'].astype(int).isin(list(range(100)))]\n",
    "filtered_data = data[seq_features]"
   ]
  },
  {
   "cell_type": "code",
   "execution_count": 32,
   "metadata": {},
   "outputs": [],
   "source": [
    "# import seaborn as sns\n",
    "# import matplotlib.pyplot as plt\n",
    "\n",
    "# # Convert 'Is Fraud?' column to binary (Yes=1, No=0)\n",
    "# data['Is_Fraud_Binary'] = data['Is Fraud?'].map({'Yes': 1, 'No': 0})\n",
    "# data['Use_chip_labeled'] = data['Use Chip'].map({'Swipe Transaction': 0, 'Online Transaction': 1, 'Chip Transaction': 2})\n",
    "# data['city_labeled'] = categorical_labeling(data['Merchant City'])\n",
    "# # Select numerical columns for correlation analysis\n",
    "# numerical_cols = ['Day', 'MCC', 'Minutes_Since_Midnight', 'city_labeled', 'Amount', 'Use_chip_labeled', 'Is_Fraud_Binary']\n",
    "\n",
    "# # Compute correlation matrix\n",
    "# correlation_matrix = data[numerical_cols].corr()\n",
    "\n",
    "# # Visualize correlation using a heatmap\n",
    "# plt.figure(figsize=(10, 6))\n",
    "# sns.heatmap(correlation_matrix, annot=True, cmap=\"coolwarm\", fmt=\".2f\")\n",
    "# plt.title(\"Feature Correlation with Fraud\")\n",
    "# plt.show()\n",
    "\n",
    "# # Display sorted correlation values with 'Is Fraud?'\n",
    "# correlation_with_fraud = correlation_matrix['Is_Fraud_Binary'].drop('Is_Fraud_Binary').sort_values(ascending=False)\n",
    "# correlation_with_fraud\n"
   ]
  },
  {
   "cell_type": "code",
   "execution_count": 33,
   "metadata": {},
   "outputs": [],
   "source": [
    "# import numpy as np\n",
    "# import pandas as pd\n",
    "# from sklearn.model_selection import train_test_split\n",
    "# from sklearn.ensemble import RandomForestClassifier, GradientBoostingClassifier, VotingClassifier\n",
    "# from sklearn.linear_model import LogisticRegression\n",
    "# from sklearn.metrics import classification_report, confusion_matrix\n",
    "# from imblearn.over_sampling import SMOTE\n",
    "\n",
    "# # Assuming `subset_df` is your dataframe with all required columns.\n",
    "# # The target column should be binary (e.g., 'Is_Fraud_Binary'), and the features are:\n",
    "# features = ['Month', 'Day', 'MCC', 'Minutes_Since_Midnight', 'city_labeled', 'Use_chip_labeled', 'Amount', 'has_error', 'irs_reportable_labeled', 'irs_description_labeled']\n",
    "# target = 'Is_Fraud_Binary'\n",
    "\n",
    "# # Extract features and target from the dataframe\n",
    "# X = data[features]\n",
    "# y = data[target]\n",
    "\n",
    "# # Perform a train/test split with stratification to preserve class distribution\n",
    "# X_train, X_test, y_train, y_test = train_test_split(\n",
    "#     X, y, test_size=0.3, stratify=y, random_state=42\n",
    "# )\n",
    "\n",
    "# # Address class imbalance using SMOTE on the training set\n",
    "# smote = SMOTE(random_state=42)\n",
    "# X_train_res, y_train_res = smote.fit_resample(X_train, y_train)\n",
    "\n",
    "# # Define individual strong predictors\n",
    "# clf_rf = RandomForestClassifier(n_estimators=100, random_state=42)\n",
    "# clf_gb = GradientBoostingClassifier(n_estimators=100, random_state=42)\n",
    "# clf_lr = LogisticRegression(max_iter=1000, random_state=42)\n",
    "\n",
    "# # Build a soft-voting ensemble classifier\n",
    "# ensemble = VotingClassifier(\n",
    "#     estimators=[('rf', clf_rf), ('gb', clf_gb), ('lr', clf_lr)],\n",
    "#     voting='soft'\n",
    "# )\n",
    "\n",
    "# # Train the ensemble model on the resampled (balanced) training data\n",
    "# ensemble.fit(X_train_res, y_train_res)\n",
    "\n",
    "# # Make predictions on the test set\n",
    "# y_pred = ensemble.predict(X_test)\n",
    "\n",
    "# # Evaluate the model's performance\n",
    "# print(\"Classification Report:\")\n",
    "# print(classification_report(y_test, y_pred))\n",
    "# print(\"Confusion Matrix:\")\n",
    "# print(confusion_matrix(y_test, y_pred))"
   ]
  },
  {
   "cell_type": "code",
   "execution_count": 62,
   "metadata": {},
   "outputs": [],
   "source": [
    "WINDOW_SIZE=20\n",
    "seq_features = ['Month', 'Day', 'MCC', 'Minutes_Since_Midnight', 'city_labeled', 'Use_chip_labeled', 'Amount', 'has_error', 'irs_reportable_labeled', 'irs_description_labeled']"
   ]
  },
  {
   "cell_type": "code",
   "execution_count": 73,
   "metadata": {},
   "outputs": [
    {
     "name": "stderr",
     "output_type": "stream",
     "text": [
      "100%|██████████| 285/285 [01:42<00:00,  2.78it/s]\n"
     ]
    },
    {
     "name": "stdout",
     "output_type": "stream",
     "text": [
      "X_seq shape: (1252585, 20, 10)\n",
      "X_agg shape: (1252585, 58)\n",
      "y shape: (1252585,)\n"
     ]
    }
   ],
   "source": [
    "import numpy as np\n",
    "import pandas as pd\n",
    "from multiprocessing import Pool\n",
    "from tqdm import tqdm\n",
    "\n",
    "NUM_PROCESSES = 12  \n",
    "\n",
    "def process_user_card_group(args):\n",
    "    \"\"\"\n",
    "    Process a single user-card group in parallel.\n",
    "    Extracts sequences and aggregated features, including additional behavioral and frequency-based features.\n",
    "    \"\"\"\n",
    "    user_card, group, window_size, feature_cols, target_col = args\n",
    "    group = group.sort_values(by='UTC_Timestamp')\n",
    "    arr = group[feature_cols].values\n",
    "    \n",
    "    X_seq_local, X_agg_local, y_local = [], [], []\n",
    "    \n",
    "    # Get feature indices for amount and categorical features\n",
    "    if 'Amount' in feature_cols:\n",
    "        amount_idx = feature_cols.index('Amount')\n",
    "    else:\n",
    "        amount_idx = None\n",
    "    \n",
    "    if 'MCC' in feature_cols:\n",
    "        mcc_idx = feature_cols.index('MCC')\n",
    "    else:\n",
    "        mcc_idx = None\n",
    "    \n",
    "    if 'Merchant_ID' in feature_cols:\n",
    "        merchant_idx = feature_cols.index('Merchant_ID')\n",
    "    else:\n",
    "        merchant_idx = None\n",
    "\n",
    "    for i in range(window_size, len(group)):\n",
    "        seq_window = arr[i - window_size:i]  # (window_size, num_features)\n",
    "        X_seq_local.append(seq_window)\n",
    "\n",
    "        # Compute basic aggregated statistics\n",
    "        agg_mean = seq_window.mean(axis=0)\n",
    "        agg_std = seq_window.std(axis=0)\n",
    "        agg_min = seq_window.min(axis=0)\n",
    "        agg_max = seq_window.max(axis=0)\n",
    "        agg_range = agg_max - agg_min\n",
    "\n",
    "        # Transaction Frequency Features\n",
    "        timestamps = group.iloc[i - window_size:i]['UTC_Timestamp']\n",
    "        time_diffs = timestamps.diff().dt.total_seconds().dropna().values  # Time differences in seconds\n",
    "\n",
    "        avg_time_diff = np.mean(time_diffs) if len(time_diffs) > 0 else 0\n",
    "        max_time_diff = np.max(time_diffs) if len(time_diffs) > 0 else 0\n",
    "        min_time_diff = np.min(time_diffs) if len(time_diffs) > 0 else 0\n",
    "\n",
    "        # Large Transactions Features\n",
    "        if amount_idx is not None:\n",
    "            amounts = seq_window[:, amount_idx]\n",
    "            high_value_txns = np.sum(amounts > np.percentile(amounts, 75)) / window_size  # % of high-value transactions\n",
    "            rolling_sum = np.sum(amounts)\n",
    "            rolling_avg = np.mean(amounts)\n",
    "        else:\n",
    "            high_value_txns, rolling_sum, rolling_avg = 0, 0, 0\n",
    "\n",
    "        # Merchant & MCC Diversity Features\n",
    "        if merchant_idx is not None:\n",
    "            unique_merchants = len(set(seq_window[:, merchant_idx]))\n",
    "        else:\n",
    "            unique_merchants = 0\n",
    "\n",
    "        if mcc_idx is not None:\n",
    "            unique_mcc_codes = len(set(seq_window[:, mcc_idx]))\n",
    "        else:\n",
    "            unique_mcc_codes = 0\n",
    "\n",
    "        # Combine all features\n",
    "        agg_features = np.concatenate([\n",
    "            agg_mean, agg_std, agg_min, agg_max, agg_range,\n",
    "            [avg_time_diff, max_time_diff, min_time_diff],  # Transaction frequency\n",
    "            [high_value_txns, rolling_sum, rolling_avg],    # Large transaction features\n",
    "            [unique_merchants, unique_mcc_codes]           # Merchant & MCC diversity\n",
    "        ])\n",
    "\n",
    "        X_agg_local.append(agg_features)\n",
    "        y_local.append(group.iloc[i][target_col])\n",
    "\n",
    "    return X_seq_local, X_agg_local, y_local\n",
    "\n",
    "def create_sequences_parallel(df, window_size=10, feature_cols=[], target_col='Is_Fraud_Binary'):\n",
    "    \"\"\"\n",
    "    Process the user-card groups in parallel to speed up sequence generation.\n",
    "    \"\"\"\n",
    "    grouped_data = [(key, group, window_size, feature_cols, target_col) for key, group in df.groupby(['User', 'Card'])]\n",
    "    \n",
    "    # Use multiprocessing Pool to process groups in parallel\n",
    "    with Pool(NUM_PROCESSES) as pool:\n",
    "        results = list(tqdm(pool.imap(process_user_card_group, grouped_data), total=len(grouped_data)))\n",
    "    \n",
    "    # Combine results from all processes\n",
    "    X_seq, X_agg, y = [], [], []\n",
    "    for X_s, X_a, y_l in results:\n",
    "        X_seq.extend(X_s)\n",
    "        X_agg.extend(X_a)\n",
    "        y.extend(y_l)\n",
    "    \n",
    "    return np.array(X_seq), np.array(X_agg), np.array(y)\n",
    "\n",
    "# Example usage:\n",
    "X_seq, X_agg, y = create_sequences_parallel(data, window_size=20, feature_cols=seq_features)\n",
    "\n",
    "print(\"X_seq shape:\", X_seq.shape)   # (num_samples, WINDOW_SIZE, num_features)\n",
    "print(\"X_agg shape:\", X_agg.shape)     # New feature set including behavior-based features\n",
    "print(\"y shape:\", y.shape)\n"
   ]
  },
  {
   "cell_type": "code",
   "execution_count": 74,
   "metadata": {},
   "outputs": [],
   "source": [
    "import numpy as np\n",
    "import pandas as pd\n",
    "from sklearn.model_selection import train_test_split\n",
    "from sklearn.metrics import classification_report\n",
    "from xgboost import XGBClassifier\n",
    "\n",
    "import tensorflow as tf\n",
    "from tensorflow.keras.models import Model, Sequential\n",
    "from tensorflow.keras.layers import Input, Dense, LSTM, GRU, Conv1D, GlobalAveragePooling1D, Dropout, LayerNormalization, MultiHeadAttention, Flatten\n",
    "from tensorflow.keras.callbacks import EarlyStopping\n",
    "\n",
    "import numpy as np\n",
    "from sklearn.ensemble import IsolationForest\n",
    "from xgboost import XGBClassifier\n",
    "from sklearn.model_selection import train_test_split\n",
    "from sklearn.metrics import classification_report, confusion_matrix"
   ]
  },
  {
   "cell_type": "code",
   "execution_count": 75,
   "metadata": {},
   "outputs": [],
   "source": [
    "# Split data into training and testing sets (stratify to preserve fraud ratios)\n",
    "X_seq_train, X_seq_test, X_agg_train, X_agg_test, y_train, y_test = train_test_split(\n",
    "    X_seq, X_agg, y, test_size=0.3, stratify=y, random_state=42\n",
    ")"
   ]
  },
  {
   "cell_type": "code",
   "execution_count": 76,
   "metadata": {},
   "outputs": [],
   "source": [
    "X_train, X_test, y_train, y_test = train_test_split(X_agg, y, test_size=0.3, stratify=y, random_state=42)"
   ]
  },
  {
   "cell_type": "code",
   "execution_count": 77,
   "metadata": {},
   "outputs": [],
   "source": [
    "X_train_nonfraud = X_train[y_train == 0]\n",
    "\n",
    "iso_forest = IsolationForest(n_estimators=100, contamination=0.001, random_state=42)\n",
    "iso_forest.fit(X_train_nonfraud)\n",
    "\n",
    "# Compute anomaly scores for both training and testing data.\n",
    "# The decision_function returns higher values for \"normal\" points.\n",
    "train_scores = iso_forest.decision_function(X_train).reshape(-1, 1)\n",
    "test_scores = iso_forest.decision_function(X_test).reshape(-1, 1)"
   ]
  },
  {
   "cell_type": "code",
   "execution_count": 78,
   "metadata": {},
   "outputs": [
    {
     "name": "stderr",
     "output_type": "stream",
     "text": [
      "/home/vedant/miniconda3/envs/tf/lib/python3.10/site-packages/xgboost/core.py:158: UserWarning: [15:10:15] WARNING: /workspace/src/learner.cc:740: \n",
      "Parameters: { \"use_label_encoder\" } are not used.\n",
      "\n",
      "  warnings.warn(smsg, UserWarning)\n"
     ]
    },
    {
     "name": "stdout",
     "output_type": "stream",
     "text": [
      "Classification Report:\n",
      "              precision    recall  f1-score   support\n",
      "\n",
      "           0       1.00      1.00      1.00    375383\n",
      "           1       0.17      0.66      0.27       393\n",
      "\n",
      "    accuracy                           1.00    375776\n",
      "   macro avg       0.59      0.83      0.64    375776\n",
      "weighted avg       1.00      1.00      1.00    375776\n",
      "\n",
      "Confusion Matrix:\n",
      "[[374122   1261]\n",
      " [   132    261]]\n"
     ]
    }
   ],
   "source": [
    "# ---------------------------\n",
    "# 3. Stage 2: Append Anomaly Scores and Train a Cost-Sensitive Classifier\n",
    "# ---------------------------\n",
    "# Append the anomaly scores as a new feature\n",
    "X_train_aug = np.concatenate([X_train, train_scores], axis=1)\n",
    "X_test_aug = np.concatenate([X_test, test_scores], axis=1)\n",
    "\n",
    "# Compute the scale_pos_weight to counter class imbalance\n",
    "neg_count = np.sum(y_train == 0)\n",
    "pos_count = np.sum(y_train == 1)\n",
    "scale_pos_weight = neg_count / pos_count\n",
    "\n",
    "# Train an XGBoost classifier with cost sensitivity\n",
    "xgb_model = XGBClassifier(n_estimators=100, scale_pos_weight=scale_pos_weight,\n",
    "                          random_state=42, use_label_encoder=False, eval_metric='logloss')\n",
    "xgb_model.fit(X_train_aug, y_train)\n",
    "\n",
    "# ---------------------------\n",
    "# 4. Evaluate the Ensemble Model\n",
    "# ---------------------------\n",
    "y_pred = xgb_model.predict(X_test_aug)\n",
    "\n",
    "print(\"Classification Report:\")\n",
    "print(classification_report(y_test, y_pred))\n",
    "\n",
    "print(\"Confusion Matrix:\")\n",
    "print(confusion_matrix(y_test, y_pred))"
   ]
  },
  {
   "cell_type": "code",
   "execution_count": 80,
   "metadata": {},
   "outputs": [
    {
     "data": {
      "image/png": "[encoded data removed]",
      "text/plain": [
       "<Figure size 800x600 with 1 Axes>"
      ]
     },
     "metadata": {},
     "output_type": "display_data"
    },
    {
     "name": "stdout",
     "output_type": "stream",
     "text": [
      "Optimal Decision Threshold: 0.878\n",
      "Classification Report with Adjusted Threshold:\n",
      "              precision    recall  f1-score   support\n",
      "\n",
      "           0       1.00      0.99      1.00    375383\n",
      "           1       0.12      0.70      0.20       393\n",
      "\n",
      "    accuracy                           0.99    375776\n",
      "   macro avg       0.56      0.85      0.60    375776\n",
      "weighted avg       1.00      0.99      1.00    375776\n",
      "\n",
      "Confusion Matrix with Adjusted Threshold:\n",
      "[[373342   2041]\n",
      " [   118    275]]\n"
     ]
    }
   ],
   "source": [
    "import numpy as np\n",
    "import matplotlib.pyplot as plt\n",
    "from sklearn.metrics import precision_recall_curve, classification_report, confusion_matrix\n",
    "\n",
    "# Step 1: Get predicted fraud probabilities from the trained model\n",
    "y_probs = xgb_model.predict_proba(X_test_aug)[:, 1]  # Get fraud probabilities\n",
    "\n",
    "# Step 2: Compute Precision-Recall Curve\n",
    "precisions, recalls, thresholds = precision_recall_curve(y_test, y_probs)\n",
    "\n",
    "# Step 3: Plot Precision-Recall Curve\n",
    "plt.figure(figsize=(8, 6))\n",
    "plt.plot(thresholds, precisions[:-1], \"b--\", label=\"Precision\")\n",
    "plt.plot(thresholds, recalls[:-1], \"r-\", label=\"Recall\")\n",
    "plt.xlabel(\"Threshold\")\n",
    "plt.ylabel(\"Score\")\n",
    "plt.title(\"Precision-Recall vs Threshold\")\n",
    "plt.legend()\n",
    "plt.grid()\n",
    "plt.show()\n",
    "\n",
    "# Step 4: Choose Best Threshold\n",
    "# We want a balance between Precision and Recall (e.g., F1-score maximization)\n",
    "f1_scores = 2 * (precisions * recalls) / (precisions + recalls)\n",
    "best_threshold = thresholds[np.argmax(f1_scores)]\n",
    "\n",
    "print(f\"Optimal Decision Threshold: {best_threshold:.3f}\")\n",
    "\n",
    "# Step 5: Use the new threshold for final fraud classification\n",
    "y_pred_adjusted = (y_probs >= 0.4).astype(int)\n",
    "\n",
    "# Step 6: Evaluate Model with New Threshold\n",
    "print(\"Classification Report with Adjusted Threshold:\")\n",
    "print(classification_report(y_test, y_pred_adjusted))\n",
    "\n",
    "print(\"Confusion Matrix with Adjusted Threshold:\")\n",
    "print(confusion_matrix(y_test, y_pred_adjusted))\n"
   ]
  },
  {
   "cell_type": "code",
   "execution_count": 81,
   "metadata": {},
   "outputs": [
    {
     "data": {
      "image/png": "[encoded data removed]",
      "text/plain": [
       "<Figure size 640x480 with 1 Axes>"
      ]
     },
     "metadata": {},
     "output_type": "display_data"
    }
   ],
   "source": [
    "import matplotlib.pyplot as plt\n",
    "from xgboost import plot_importance\n",
    "\n",
    "plot_importance(xgb_model)\n",
    "plt.show()"
   ]
  },
  {
   "cell_type": "code",
   "execution_count": 82,
   "metadata": {},
   "outputs": [
    {
     "name": "stdout",
     "output_type": "stream",
     "text": [
      "Top Important Features:\n",
      "   Feature  Importance\n",
      "48     f57       206.0\n",
      "45     f51       179.0\n",
      "33     f36       178.0\n",
      "4       f4       177.0\n",
      "3       f3       161.0\n",
      "30     f33       154.0\n",
      "22     f23       154.0\n",
      "49     f58       146.0\n",
      "24     f26       142.0\n",
      "38     f43       136.0\n",
      "1       f1       136.0\n",
      "15     f15       135.0\n",
      "0       f0       127.0\n",
      "5       f5       127.0\n",
      "9       f9       122.0\n",
      "13     f13       121.0\n",
      "2       f2       121.0\n",
      "21     f22       119.0\n",
      "44     f50       117.0\n",
      "14     f14       109.0\n",
      "\n",
      "Least Important Features:\n",
      "   Feature  Importance\n",
      "43     f49        72.0\n",
      "8       f8        60.0\n",
      "23     f24        52.0\n",
      "28     f31        52.0\n",
      "26     f29        52.0\n",
      "20     f21        52.0\n",
      "29     f32        50.0\n",
      "34     f39        38.0\n",
      "27     f30        38.0\n",
      "17     f18        33.0\n",
      "36     f41        24.0\n",
      "19     f20        21.0\n",
      "10     f10        21.0\n",
      "7       f7        18.0\n",
      "42     f48        10.0\n",
      "40     f45         8.0\n",
      "35     f40         8.0\n",
      "25     f28         8.0\n",
      "47     f53         2.0\n",
      "32     f35         1.0\n"
     ]
    }
   ],
   "source": [
    "import pandas as pd\n",
    "import numpy as np\n",
    "\n",
    "# Get feature importance values\n",
    "feature_importance = xgb_model.get_booster().get_score(importance_type='weight')\n",
    "\n",
    "# Convert to DataFrame\n",
    "feature_importance_df = pd.DataFrame(feature_importance.items(), columns=['Feature', 'Importance'])\n",
    "\n",
    "# Sort by importance\n",
    "feature_importance_df = feature_importance_df.sort_values(by='Importance', ascending=False)\n",
    "\n",
    "# Display top features\n",
    "print(\"Top Important Features:\")\n",
    "print(feature_importance_df.head(20))\n",
    "\n",
    "# Display least important features\n",
    "print(\"\\nLeast Important Features:\")\n",
    "print(feature_importance_df.tail(20))\n"
   ]
  },
  {
   "cell_type": "code",
   "execution_count": 83,
   "metadata": {},
   "outputs": [
    {
     "name": "stdout",
     "output_type": "stream",
     "text": [
      "\n",
      "Removing 13 low-importance features:\n",
      "['f39', 'f30', 'f18', 'f41', 'f20', 'f10', 'f7', 'f48', 'f45', 'f40', 'f28', 'f53', 'f35']\n"
     ]
    }
   ],
   "source": [
    "# Set threshold for feature selection\n",
    "importance_threshold = 50  # Adjust this based on results\n",
    "\n",
    "# Get low-importance features\n",
    "low_importance_features = feature_importance_df[feature_importance_df['Importance'] < importance_threshold]['Feature'].tolist()\n",
    "\n",
    "print(f\"\\nRemoving {len(low_importance_features)} low-importance features:\\n{low_importance_features}\")\n"
   ]
  },
  {
   "cell_type": "code",
   "execution_count": 85,
   "metadata": {},
   "outputs": [
    {
     "data": {
      "text/plain": [
       "array([[1.10000e+01, 2.08500e+01, 5.97085e+03, ..., 2.82620e+01,\n",
       "        0.00000e+00, 1.30000e+01],\n",
       "       [4.00000e+00, 2.04000e+01, 5.70390e+03, ..., 2.52550e+01,\n",
       "        0.00000e+00, 1.10000e+01],\n",
       "       [4.00000e+00, 1.19000e+01, 5.27230e+03, ..., 5.68630e+01,\n",
       "        0.00000e+00, 8.00000e+00],\n",
       "       ...,\n",
       "       [1.10000e+01, 1.57500e+01, 5.94205e+03, ..., 2.01240e+01,\n",
       "        0.00000e+00, 8.00000e+00],\n",
       "       [8.00000e+00, 1.42500e+01, 5.37670e+03, ..., 4.73895e+01,\n",
       "        0.00000e+00, 8.00000e+00],\n",
       "       [1.00500e+01, 2.69000e+01, 5.46100e+03, ..., 2.37035e+01,\n",
       "        0.00000e+00, 8.00000e+00]])"
      ]
     },
     "execution_count": 85,
     "metadata": {},
     "output_type": "execute_result"
    }
   ],
   "source": [
    "X_train"
   ]
  },
  {
   "cell_type": "code",
   "execution_count": 87,
   "metadata": {},
   "outputs": [
    {
     "ename": "KeyError",
     "evalue": "'Feature_Index'",
     "output_type": "error",
     "traceback": [
      "\u001b[0;31m---------------------------------------------------------------------------\u001b[0m",
      "\u001b[0;31mKeyError\u001b[0m                                  Traceback (most recent call last)",
      "File \u001b[0;32m~/miniconda3/envs/tf/lib/python3.10/site-packages/pandas/core/indexes/base.py:3805\u001b[0m, in \u001b[0;36mIndex.get_loc\u001b[0;34m(self, key)\u001b[0m\n\u001b[1;32m   3804\u001b[0m \u001b[38;5;28;01mtry\u001b[39;00m:\n\u001b[0;32m-> 3805\u001b[0m     \u001b[38;5;28;01mreturn\u001b[39;00m \u001b[38;5;28;43mself\u001b[39;49m\u001b[38;5;241;43m.\u001b[39;49m\u001b[43m_engine\u001b[49m\u001b[38;5;241;43m.\u001b[39;49m\u001b[43mget_loc\u001b[49m\u001b[43m(\u001b[49m\u001b[43mcasted_key\u001b[49m\u001b[43m)\u001b[49m\n\u001b[1;32m   3806\u001b[0m \u001b[38;5;28;01mexcept\u001b[39;00m \u001b[38;5;167;01mKeyError\u001b[39;00m \u001b[38;5;28;01mas\u001b[39;00m err:\n",
      "File \u001b[0;32mindex.pyx:167\u001b[0m, in \u001b[0;36mpandas._libs.index.IndexEngine.get_loc\u001b[0;34m()\u001b[0m\n",
      "File \u001b[0;32mindex.pyx:196\u001b[0m, in \u001b[0;36mpandas._libs.index.IndexEngine.get_loc\u001b[0;34m()\u001b[0m\n",
      "File \u001b[0;32mpandas/_libs/hashtable_class_helper.pxi:7081\u001b[0m, in \u001b[0;36mpandas._libs.hashtable.PyObjectHashTable.get_item\u001b[0;34m()\u001b[0m\n",
      "File \u001b[0;32mpandas/_libs/hashtable_class_helper.pxi:7089\u001b[0m, in \u001b[0;36mpandas._libs.hashtable.PyObjectHashTable.get_item\u001b[0;34m()\u001b[0m\n",
      "\u001b[0;31mKeyError\u001b[0m: 'Feature_Index'",
      "\nThe above exception was the direct cause of the following exception:\n",
      "\u001b[0;31mKeyError\u001b[0m                                  Traceback (most recent call last)",
      "Cell \u001b[0;32mIn[87], line 5\u001b[0m\n\u001b[1;32m      2\u001b[0m importance_threshold \u001b[38;5;241m=\u001b[39m \u001b[38;5;241m50\u001b[39m  \u001b[38;5;66;03m# Set threshold (Adjust if needed)\u001b[39;00m\n\u001b[1;32m      4\u001b[0m \u001b[38;5;66;03m# Get feature indices that are below the threshold\u001b[39;00m\n\u001b[0;32m----> 5\u001b[0m low_importance_indices \u001b[38;5;241m=\u001b[39m \u001b[43mfeature_importance_df\u001b[49m\u001b[43m[\u001b[49m\u001b[43mfeature_importance_df\u001b[49m\u001b[43m[\u001b[49m\u001b[38;5;124;43m'\u001b[39;49m\u001b[38;5;124;43mImportance\u001b[39;49m\u001b[38;5;124;43m'\u001b[39;49m\u001b[43m]\u001b[49m\u001b[43m \u001b[49m\u001b[38;5;241;43m<\u001b[39;49m\u001b[43m \u001b[49m\u001b[43mimportance_threshold\u001b[49m\u001b[43m]\u001b[49m\u001b[43m[\u001b[49m\u001b[38;5;124;43m'\u001b[39;49m\u001b[38;5;124;43mFeature_Index\u001b[39;49m\u001b[38;5;124;43m'\u001b[39;49m\u001b[43m]\u001b[49m\u001b[38;5;241m.\u001b[39mtolist()\n\u001b[1;32m      7\u001b[0m \u001b[38;5;66;03m# Step 3: Remove Low-Importance Features from NumPy Arrays\u001b[39;00m\n\u001b[1;32m      8\u001b[0m X_train_reduced \u001b[38;5;241m=\u001b[39m np\u001b[38;5;241m.\u001b[39mdelete(X_train, low_importance_indices, axis\u001b[38;5;241m=\u001b[39m\u001b[38;5;241m1\u001b[39m)\n",
      "File \u001b[0;32m~/miniconda3/envs/tf/lib/python3.10/site-packages/pandas/core/frame.py:4102\u001b[0m, in \u001b[0;36mDataFrame.__getitem__\u001b[0;34m(self, key)\u001b[0m\n\u001b[1;32m   4100\u001b[0m \u001b[38;5;28;01mif\u001b[39;00m \u001b[38;5;28mself\u001b[39m\u001b[38;5;241m.\u001b[39mcolumns\u001b[38;5;241m.\u001b[39mnlevels \u001b[38;5;241m>\u001b[39m \u001b[38;5;241m1\u001b[39m:\n\u001b[1;32m   4101\u001b[0m     \u001b[38;5;28;01mreturn\u001b[39;00m \u001b[38;5;28mself\u001b[39m\u001b[38;5;241m.\u001b[39m_getitem_multilevel(key)\n\u001b[0;32m-> 4102\u001b[0m indexer \u001b[38;5;241m=\u001b[39m \u001b[38;5;28;43mself\u001b[39;49m\u001b[38;5;241;43m.\u001b[39;49m\u001b[43mcolumns\u001b[49m\u001b[38;5;241;43m.\u001b[39;49m\u001b[43mget_loc\u001b[49m\u001b[43m(\u001b[49m\u001b[43mkey\u001b[49m\u001b[43m)\u001b[49m\n\u001b[1;32m   4103\u001b[0m \u001b[38;5;28;01mif\u001b[39;00m is_integer(indexer):\n\u001b[1;32m   4104\u001b[0m     indexer \u001b[38;5;241m=\u001b[39m [indexer]\n",
      "File \u001b[0;32m~/miniconda3/envs/tf/lib/python3.10/site-packages/pandas/core/indexes/base.py:3812\u001b[0m, in \u001b[0;36mIndex.get_loc\u001b[0;34m(self, key)\u001b[0m\n\u001b[1;32m   3807\u001b[0m     \u001b[38;5;28;01mif\u001b[39;00m \u001b[38;5;28misinstance\u001b[39m(casted_key, \u001b[38;5;28mslice\u001b[39m) \u001b[38;5;129;01mor\u001b[39;00m (\n\u001b[1;32m   3808\u001b[0m         \u001b[38;5;28misinstance\u001b[39m(casted_key, abc\u001b[38;5;241m.\u001b[39mIterable)\n\u001b[1;32m   3809\u001b[0m         \u001b[38;5;129;01mand\u001b[39;00m \u001b[38;5;28many\u001b[39m(\u001b[38;5;28misinstance\u001b[39m(x, \u001b[38;5;28mslice\u001b[39m) \u001b[38;5;28;01mfor\u001b[39;00m x \u001b[38;5;129;01min\u001b[39;00m casted_key)\n\u001b[1;32m   3810\u001b[0m     ):\n\u001b[1;32m   3811\u001b[0m         \u001b[38;5;28;01mraise\u001b[39;00m InvalidIndexError(key)\n\u001b[0;32m-> 3812\u001b[0m     \u001b[38;5;28;01mraise\u001b[39;00m \u001b[38;5;167;01mKeyError\u001b[39;00m(key) \u001b[38;5;28;01mfrom\u001b[39;00m \u001b[38;5;21;01merr\u001b[39;00m\n\u001b[1;32m   3813\u001b[0m \u001b[38;5;28;01mexcept\u001b[39;00m \u001b[38;5;167;01mTypeError\u001b[39;00m:\n\u001b[1;32m   3814\u001b[0m     \u001b[38;5;66;03m# If we have a listlike key, _check_indexing_error will raise\u001b[39;00m\n\u001b[1;32m   3815\u001b[0m     \u001b[38;5;66;03m#  InvalidIndexError. Otherwise we fall through and re-raise\u001b[39;00m\n\u001b[1;32m   3816\u001b[0m     \u001b[38;5;66;03m#  the TypeError.\u001b[39;00m\n\u001b[1;32m   3817\u001b[0m     \u001b[38;5;28mself\u001b[39m\u001b[38;5;241m.\u001b[39m_check_indexing_error(key)\n",
      "\u001b[0;31mKeyError\u001b[0m: 'Feature_Index'"
     ]
    }
   ],
   "source": [
    "\n",
    "# Step 2: Identify Features to Remove\n",
    "importance_threshold = 50  # Set threshold (Adjust if needed)\n",
    "\n",
    "# Get feature indices that are below the threshold\n",
    "low_importance_indices = feature_importance_df[feature_importance_df['Importance'] < importance_threshold]['Feature_Index'].tolist()\n",
    "\n",
    "# Step 3: Remove Low-Importance Features from NumPy Arrays\n",
    "X_train_reduced = np.delete(X_train, low_importance_indices, axis=1)\n",
    "X_test_reduced = np.delete(X_test, low_importance_indices, axis=1)\n",
    "\n",
    "# Retrain the model on the reduced feature set\n",
    "xgb_model_reduced = XGBClassifier(n_estimators=100, scale_pos_weight=scale_pos_weight,\n",
    "                                  random_state=42, use_label_encoder=False, eval_metric='logloss')\n",
    "xgb_model_reduced.fit(X_train_reduced, y_train)\n",
    "\n",
    "# Evaluate the new model\n",
    "y_probs_reduced = xgb_model_reduced.predict_proba(X_test_reduced)[:, 1]\n",
    "y_pred_adjusted_reduced = (y_probs_reduced >= 0.4).astype(int)\n",
    "\n",
    "print(\"\\nClassification Report after Feature Selection:\")\n",
    "print(classification_report(y_test, y_pred_adjusted_reduced))\n",
    "\n",
    "print(\"\\nConfusion Matrix after Feature Selection:\")\n",
    "print(confusion_matrix(y_test, y_pred_adjusted_reduced))\n"
   ]
  },
  {
   "cell_type": "code",
   "execution_count": null,
   "metadata": {},
   "outputs": [],
   "source": []
  }
 ],
 "metadata": {
  "kernelspec": {
   "display_name": "tf",
   "language": "python",
   "name": "python3"
  },
  "language_info": {
   "codemirror_mode": {
    "name": "ipython",
    "version": 3
   },
   "file_extension": ".py",
   "mimetype": "text/x-python",
   "name": "python",
   "nbconvert_exporter": "python",
   "pygments_lexer": "ipython3",
   "version": "3.10.14"
  }
 },
 "nbformat": 4,
 "nbformat_minor": 2
}
